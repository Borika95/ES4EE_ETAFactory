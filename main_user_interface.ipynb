{
 "cells": [
  {
   "cell_type": "markdown",
   "id": "a5a08db9dd8ccf19",
   "metadata": {},
   "source": [
    "# Main User Interface\n",
    "<br>\n",
    "\n",
    "The _main user interface_ allows users to input data and interact with outputs.\n",
    "<br>\n",
    "\n",
    "It consists of two components:\n",
    "\n",
    "   1.   Knowledge acquisition\n",
    "   2.   Results"
   ]
  },
  {
   "cell_type": "markdown",
   "id": "d94d0e444a9443b5",
   "metadata": {},
   "source": [
    "#### 1. Knowledge acquisition\n",
    "<br>\n",
    "\n",
    "With the following links you will be directed to the specified sections in the Knowledge Base to gather Information about the system.\n",
    "<br>\n",
    "1. [Machine Description](../Knowledge_Base/knowledge_base.ipynb#1.-Machine-description)\n",
    "2. [Data Point Definition](../Knowledge_Base/knowledge_base.ipynb#2.-Data-point-definition)\n",
    "3. [EnPI Definition](../Knowledge_Base/knowledge_base.ipynb#3.-EnPI-definition)\n",
    "4. [Energy Information](../Knowledge_Base/knowledge_base.ipynb#4.-Energy-information)\n",
    "5. [Fuzzy Rule Base Definition](../Knowledge_Base/knowledge_base.ipynb#5.-Fuzzy-rule-base-definition)\n",
    "6. [Sample Data](../Knowledge_Base/knowledge_base.ipynb#6.-Sample-data)\n",
    "7. [Case Knowledge](../Knowledge_Base/knowledge_base.ipynb#7.-Case-knowledge)\n",
    "\n"
   ]
  },
  {
   "cell_type": "markdown",
   "id": "28edc801729f4c64",
   "metadata": {},
   "source": [
    "#### 2. Results\n",
    "\n",
    "You can go to the results block in the _Knowledge Base_ <a href=\"../Knowledge_Base/knowledge_base.ipynb#results\">here</a>."
   ]
  },
  {
   "cell_type": "code",
   "execution_count": 12,
   "id": "7a5b3251ff1e8cf9",
   "metadata": {
    "ExecuteTime": {
     "end_time": "2025-01-09T08:36:12.061532Z",
     "start_time": "2025-01-09T08:36:12.056328Z"
    }
   },
   "outputs": [
    {
     "name": "stdout",
     "output_type": "stream",
     "text": [
      "2\n"
     ]
    }
   ],
   "source": [
    "import sys\n",
    "import os\n",
    "sys.path.append(os.path.abspath(os.path.join(os.getcwd(), '..', 'Helpers')))\n",
    "\n",
    "#import data, algorithms and machine-learning-models\n",
    "from MLModels import importMLModels as MLModels\n",
    "import algorithms as algs\n",
    "import data_point_addresses as data\n",
    "\n",
    "#compute results on data with given MLModels and/or algorithms\n",
    "def compute_EnPIs ():\n",
    "    return algs.exampleAlgorithm(1)\n",
    "\n",
    "#write results to file\n",
    "with open('../Knowledge_Base/results.txt', 'w') as results:\n",
    "    results.write(str(compute_EnPIs()))\n",
    "\n",
    "\n",
    "with open('../Knowledge_Base/results.txt', 'r') as results:\n",
    "    print(results.read())"
   ]
  },
  {
   "cell_type": "code",
   "execution_count": 16,
   "id": "198c00da4281e831",
   "metadata": {
    "ExecuteTime": {
     "end_time": "2025-01-12T14:00:30.530514Z",
     "start_time": "2025-01-12T14:00:30.525451Z"
    }
   },
   "outputs": [],
   "source": [
    "# TODO Implement visualisation shell for the results (see also KB)"
   ]
  }
 ],
 "metadata": {
  "kernelspec": {
   "display_name": "Python 3 (ipykernel)",
   "language": "python",
   "name": "python3"
  },
  "language_info": {
   "codemirror_mode": {
    "name": "ipython",
    "version": 3
   },
   "file_extension": ".py",
   "mimetype": "text/x-python",
   "name": "python",
   "nbconvert_exporter": "python",
   "pygments_lexer": "ipython3",
   "version": "3.11.0"
  }
 },
 "nbformat": 4,
 "nbformat_minor": 5
}
