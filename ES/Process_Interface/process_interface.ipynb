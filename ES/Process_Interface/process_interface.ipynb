{
 "cells": [
  {
   "metadata": {},
   "cell_type": "markdown",
   "source": [
    "# Process Interface\n",
    "<br>\n",
    "\n",
    "The process interface links the expert system to external systems, collects machine data,\n",
    "<br> and transmits it to the helpers component for processing.\n",
    "<br>\n",
    "\n",
    "It consists of one component:\n",
    "\n",
    "   1.   Connectors"
   ],
   "id": "5cbcdc0474e62b49"
  },
  {
   "metadata": {},
   "cell_type": "markdown",
   "source": "#### 1. Connectors",
   "id": "b254561166dee62a"
  }
 ],
 "metadata": {
  "kernelspec": {
   "display_name": "Python 3",
   "language": "python",
   "name": "python3"
  },
  "language_info": {
   "codemirror_mode": {
    "name": "ipython",
    "version": 2
   },
   "file_extension": ".py",
   "mimetype": "text/x-python",
   "name": "python",
   "nbconvert_exporter": "python",
   "pygments_lexer": "ipython2",
   "version": "2.7.6"
  }
 },
 "nbformat": 4,
 "nbformat_minor": 5
}
