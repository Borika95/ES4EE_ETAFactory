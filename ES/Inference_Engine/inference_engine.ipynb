{
 "cells": [
  {
   "metadata": {},
   "cell_type": "markdown",
   "source": [
    "# Inference Engine\n",
    "<br>\n",
    "\n",
    "The _inference engine_ component applies reasoning by matching facts with heuristic rules to draw conclusions.\n",
    "<br>\n",
    "\n",
    "It consists of four components:\n",
    "\n",
    "   1.   Membership functions\n",
    "   2.   Inference mechanism\n",
    "   3.   Fuzzy rule base\n",
    "   4.   Energy Performance Indicators (EnPI)\n"
   ],
   "id": "8fb7be6ff751deb7"
  },
  {
   "metadata": {},
   "cell_type": "markdown",
   "source": "#### 1. Membership functions",
   "id": "22a393c9df2bec36"
  },
  {
   "metadata": {},
   "cell_type": "markdown",
   "source": "#### 2. Inference mechanism",
   "id": "9ca2d9c87de842f4"
  },
  {
   "metadata": {},
   "cell_type": "markdown",
   "source": "#### 3. Fuzzy rule base",
   "id": "936f64548df7ba49"
  },
  {
   "metadata": {},
   "cell_type": "markdown",
   "source": "#### 4. Energy Performance Indicators (EnPI)",
   "id": "ba8e7e4cdc8ecd4a"
  }
 ],
 "metadata": {
  "kernelspec": {
   "display_name": "Python 3",
   "language": "python",
   "name": "python3"
  },
  "language_info": {
   "codemirror_mode": {
    "name": "ipython",
    "version": 2
   },
   "file_extension": ".py",
   "mimetype": "text/x-python",
   "name": "python",
   "nbconvert_exporter": "python",
   "pygments_lexer": "ipython2",
   "version": "2.7.6"
  }
 },
 "nbformat": 4,
 "nbformat_minor": 5
}
